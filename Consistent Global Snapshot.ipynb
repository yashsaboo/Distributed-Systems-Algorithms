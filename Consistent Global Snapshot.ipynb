{
 "cells": [
  {
   "cell_type": "code",
   "execution_count": null,
   "metadata": {},
   "outputs": [],
   "source": [
    "# A snapshot algorithm is used to create a consistent snapshot of the global state of a distributed system"
   ]
  },
  {
   "cell_type": "code",
   "execution_count": 16,
   "metadata": {},
   "outputs": [],
   "source": [
    "# m = [[1,2,3],\n",
    "#       [1,2,5],\n",
    "#      [4,3,6],\n",
    "#       [2,3,5],\n",
    "#      [3,2,5]]\n",
    "\n",
    "# m = [\n",
    "#     [0,0,1],\n",
    "#     [0,2,1],\n",
    "#     [0,2,3],\n",
    "#     [2,2,3],\n",
    "#     [2,3,4],\n",
    "#     [0,2,4]\n",
    "\n",
    "m = [\n",
    "    [1,2,1],\n",
    "    [1,1,1],\n",
    "    [0,0,1]\n",
    "]"
   ]
  },
  {
   "cell_type": "code",
   "execution_count": 17,
   "metadata": {},
   "outputs": [
    {
     "name": "stdout",
     "output_type": "stream",
     "text": [
      "Inconsistent\n"
     ]
    }
   ],
   "source": [
    "flag = 0\n",
    "for i in range(len(m)):\n",
    "    greatest = m[i][i]\n",
    "    for j in range(len(m)):\n",
    "        if j!=i and m[i][j]>greatest:\n",
    "            flag = 1\n",
    "            break\n",
    "\n",
    "if flag == 0:\n",
    "    print \"Consistent\"\n",
    "else:\n",
    "    print \"Inconsistent\"\n",
    "            "
   ]
  },
  {
   "cell_type": "code",
   "execution_count": null,
   "metadata": {
    "collapsed": true
   },
   "outputs": [],
   "source": [
    "def consistentOrNot(list1, list2):\n",
    "#     print(list1)\n",
    "#     print(list2)\n",
    "    greatest = -1 #Initialisation\n",
    "    for i in range(len(list1)):\n",
    "        if list1[i] > list2[i]:\n",
    "            if greatest == 2:\n",
    "                return 0 #Parallel Event\n",
    "            else:\n",
    "                greatest = 1\n",
    "        elif list1[i] < list2[i]:\n",
    "            if greatest == 1:\n",
    "                return 0 #Parallel Event\n",
    "            else:\n",
    "                greatest = 2\n",
    "    if greatest == 1:\n",
    "        return 2\n",
    "    if greatest == 2:\n",
    "        return 1\n",
    "    return greatest #Same message            "
   ]
  }
 ],
 "metadata": {
  "kernelspec": {
   "display_name": "Python 3",
   "language": "python",
   "name": "python3"
  },
  "language_info": {
   "codemirror_mode": {
    "name": "ipython",
    "version": 3
   },
   "file_extension": ".py",
   "mimetype": "text/x-python",
   "name": "python",
   "nbconvert_exporter": "python",
   "pygments_lexer": "ipython3",
   "version": "3.6.7"
  }
 },
 "nbformat": 4,
 "nbformat_minor": 1
}
