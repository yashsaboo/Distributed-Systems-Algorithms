{
 "cells": [
  {
   "cell_type": "code",
   "execution_count": null,
   "metadata": {},
   "outputs": [],
   "source": [
    "# Chandy-Misra-Haas Algorithm is a fully distributed deadlock detection algorithm. \n",
    "# It is considered an edge-chasing, probe-based algorithm."
   ]
  },
  {
   "cell_type": "code",
   "execution_count": 7,
   "metadata": {},
   "outputs": [],
   "source": [
    "matrix = [\n",
    "    [0,1,0,1],\n",
    "    [0,0,1,0],\n",
    "    [0,0,0,1],\n",
    "    [1,0,0,0]\n",
    "]\n",
    "sites = 4\n",
    "init = 1"
   ]
  },
  {
   "cell_type": "code",
   "execution_count": 8,
   "metadata": {},
   "outputs": [],
   "source": [
    "# sites = int(input(\"Enter number of sites : \"))\n",
    "\n",
    "# print (\"Enter matrix of WFG : \")\n",
    "# matrix = []\n",
    "# for i in range(sites):\n",
    "#     vector = []\n",
    "#     vector = list(map(int, input().split()))\n",
    "#     matrix.append(vector)\n",
    "\n",
    "# while(True):\n",
    "#     init = int(input(\"Enter ID of initiator: \"))\n",
    "#     if 1 not in matrix[init]:\n",
    "#         print (\"P\" + str(init + 1) + \" is not connected to any. Enter again.\")\n",
    "#     else:\n",
    "#         break"
   ]
  },
  {
   "cell_type": "code",
   "execution_count": 9,
   "metadata": {},
   "outputs": [],
   "source": [
    "def CMH(matrix, init, rec, sites):\n",
    "    flag = 0\n",
    "#     print(init,rec)\n",
    "    for i in range(sites):\n",
    "        if matrix[rec][i] == 1:\n",
    "            if init == i:\n",
    "                print (\"P\" + str(rec + 1) + \" --> P\" + str(i + 1) + \"\\t(\" + str(init + 1) + \", \" + str(rec + 1) + \", \" + str(i + 1) + \") ==> DEADLOCK\")\n",
    "                flag = 1\n",
    "                break\n",
    "            if i == rec:\n",
    "                break\n",
    "            print (\"P\" + str(rec + 1) + \" --> P\" + str(i + 1) + \"\\t(\" + str(init + 1) + \", \" + str(rec + 1) + \", \" + str(i + 1) + \")\")\n",
    "            CMH(matrix, init, i, sites)\n",
    "    return flag"
   ]
  },
  {
   "cell_type": "code",
   "execution_count": 10,
   "metadata": {
    "scrolled": true
   },
   "outputs": [
    {
     "name": "stdout",
     "output_type": "stream",
     "text": [
      "P1 --> P2\t(1, 1, 2)\n",
      "P2 --> P3\t(1, 2, 3)\n",
      "P3 --> P4\t(1, 3, 4)\n",
      "P4 --> P1\t(1, 4, 1) ==> DEADLOCK\n",
      "P1 --> P4\t(1, 1, 4)\n",
      "P4 --> P1\t(1, 4, 1) ==> DEADLOCK\n"
     ]
    }
   ],
   "source": [
    "for i in range(sites):\n",
    "    if matrix[init - 1][i] == 1:\n",
    "        print (\"P\" + str(init) + \" --> P\" + str(i + 1) + \"\\t(\" + str(init) + \", \" + str(init) + \", \" + str(i + 1) + \")\")\n",
    "        flag = CMH(matrix, init - 1, i, sites)"
   ]
  },
  {
   "cell_type": "code",
   "execution_count": 11,
   "metadata": {},
   "outputs": [
    {
     "name": "stdout",
     "output_type": "stream",
     "text": [
      "0\n",
      "1\n",
      "2\n",
      "3\n"
     ]
    }
   ],
   "source": [
    "for i in range(4):\n",
    "    print(i)"
   ]
  },
  {
   "cell_type": "code",
   "execution_count": null,
   "metadata": {},
   "outputs": [],
   "source": []
  }
 ],
 "metadata": {
  "kernelspec": {
   "display_name": "Python 3",
   "language": "python",
   "name": "python3"
  },
  "language_info": {
   "codemirror_mode": {
    "name": "ipython",
    "version": 3
   },
   "file_extension": ".py",
   "mimetype": "text/x-python",
   "name": "python",
   "nbconvert_exporter": "python",
   "pygments_lexer": "ipython3",
   "version": "3.6.7"
  }
 },
 "nbformat": 4,
 "nbformat_minor": 2
}
