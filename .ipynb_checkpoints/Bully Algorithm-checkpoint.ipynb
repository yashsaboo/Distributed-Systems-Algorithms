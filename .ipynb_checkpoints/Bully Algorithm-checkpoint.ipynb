{
 "cells": [
  {
   "cell_type": "code",
   "execution_count": null,
   "metadata": {},
   "outputs": [],
   "source": [
    "# In distributed computing, the bully algorithm is a method for dynamically electing a coordinator or leader from a group of distributed computer processes."
   ]
  },
  {
   "cell_type": "code",
   "execution_count": 9,
   "metadata": {},
   "outputs": [],
   "source": [
    "numberOfSites = 5\n",
    "listOfPriority = [5,4,3,2,1]\n",
    "listOfStatus = [1,1,1,1,0]\n",
    "listOfWish = [1,1,1,1,1]\n",
    "initiator = 2\n",
    "coordinator = numberOfSites"
   ]
  },
  {
   "cell_type": "code",
   "execution_count": 10,
   "metadata": {},
   "outputs": [
    {
     "name": "stdout",
     "output_type": "stream",
     "text": [
      "5\n",
      "Site 2 sends message of COORDINATOR to 3\n",
      "Site 2 sends message of COORDINATOR to 4\n",
      "Site 2 sends message of COORDINATOR to 5\n",
      "Site 3 sends message of OK to 2\n",
      "Site 4 sends message of OK to 2\n",
      "Site 3 sends message of COORDINATOR to 4\n",
      "Site 3 sends message of COORDINATOR to 5\n",
      "Site 4 sends message of OK to 3\n",
      "Site 4 sends message of COORDINATOR to 5\n",
      "Elected:4\n",
      "numberOfMessages:9\n"
     ]
    }
   ],
   "source": [
    "def sendCoordinatorMessage(x):\n",
    "    numberOfMessages = 0\n",
    "    for i in range(x+1, numberOfSites+1):\n",
    "        print(\"Site \"+str(x)+\" sends message of COORDINATOR to \"+str(i))\n",
    "        numberOfMessages+=1\n",
    "    return numberOfMessages\n",
    "        \n",
    "def recieveCoordinatorMessage(x):\n",
    "    flag = 1\n",
    "    numberOfMessages = 0\n",
    "    for i in range(x+1, numberOfSites+1):\n",
    "        if(listOfStatus[i-1]!=0):\n",
    "            print(\"Site \"+str(i)+\" sends message of OK to \"+str(x))\n",
    "            numberOfMessages+=1\n",
    "            flag = 0\n",
    "    return flag, numberOfMessages\n",
    "\n",
    "def checkIfAnyoneCanBeCoordinator():\n",
    "    initiator = numberOfSites\n",
    "    \n",
    "    while(listOfStatus[initiator-1]!=1 or listOfWish[initiator-1]!=1):\n",
    "        print(initiator)\n",
    "        initiator = initiator-1\n",
    "        if initiator==0:\n",
    "            print(\"No one can be a coordinator\")\n",
    "            return 1\n",
    "    \n",
    "    return 0\n",
    "\n",
    "totalNumberOfMessages = 0\n",
    "\n",
    "if checkIfAnyoneCanBeCoordinator() == 0:\n",
    "    for j in range(initiator, numberOfSites+1):\n",
    "        if listOfStatus[j-1]==1 and listOfWish[j-1]==1:\n",
    "            totalNumberOfMessages += sendCoordinatorMessage(j)\n",
    "            flag, numberOfMessages = recieveCoordinatorMessage(j)\n",
    "            totalNumberOfMessages += numberOfMessages\n",
    "            if (flag == 1):\n",
    "                print(\"Elected:\"+str(j))\n",
    "                print(\"numberOfMessages:\"+str(totalNumberOfMessages))\n",
    "                break"
   ]
  },
  {
   "cell_type": "code",
   "execution_count": null,
   "metadata": {},
   "outputs": [],
   "source": []
  }
 ],
 "metadata": {
  "kernelspec": {
   "display_name": "Python 3",
   "language": "python",
   "name": "python3"
  },
  "language_info": {
   "codemirror_mode": {
    "name": "ipython",
    "version": 3
   },
   "file_extension": ".py",
   "mimetype": "text/x-python",
   "name": "python",
   "nbconvert_exporter": "python",
   "pygments_lexer": "ipython3",
   "version": "3.6.7"
  }
 },
 "nbformat": 4,
 "nbformat_minor": 2
}
