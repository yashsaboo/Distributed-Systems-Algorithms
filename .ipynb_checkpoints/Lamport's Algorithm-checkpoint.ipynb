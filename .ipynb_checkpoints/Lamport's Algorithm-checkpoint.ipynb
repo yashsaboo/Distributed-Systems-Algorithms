{
 "cells": [
  {
   "cell_type": "code",
   "execution_count": null,
   "metadata": {},
   "outputs": [],
   "source": [
    "# Lamport’s Distributed Mutual Exclusion Algorithm is a permission based algorithm proposed by Lamport as an illustration of his synchronization scheme for distributed systems."
   ]
  },
  {
   "cell_type": "code",
   "execution_count": 6,
   "metadata": {},
   "outputs": [],
   "source": [
    "m = [[1,2,3],\n",
    "      [1,2,5],\n",
    "     [4,3,6],\n",
    "      [2,3,5],\n",
    "     [3,2,5]]\n",
    "\n",
    "m = [\n",
    "    [0,0,1],\n",
    "    [0,2,1],\n",
    "    [0,2,3],\n",
    "    [2,2,3],\n",
    "    [2,3,4],\n",
    "    [0,2,4]\n",
    "]"
   ]
  },
  {
   "cell_type": "code",
   "execution_count": 7,
   "metadata": {},
   "outputs": [],
   "source": [
    "def whoCameFirst(list1, list2):\n",
    "#     print(list1)\n",
    "#     print(list2)\n",
    "    greatest = -1 #Initialisation\n",
    "    for i in range(len(list1)):\n",
    "        if list1[i] > list2[i]:\n",
    "            if greatest == 2:\n",
    "                return 0 #Parallel Event\n",
    "            else:\n",
    "                greatest = 1\n",
    "        elif list1[i] < list2[i]:\n",
    "            if greatest == 1:\n",
    "                return 0 #Parallel Event\n",
    "            else:\n",
    "                greatest = 2\n",
    "    if greatest == 1:\n",
    "        return 2\n",
    "    if greatest == 2:\n",
    "        return 1\n",
    "    return greatest #Same message            "
   ]
  },
  {
   "cell_type": "code",
   "execution_count": 8,
   "metadata": {},
   "outputs": [
    {
     "name": "stdout",
     "output_type": "stream",
     "text": [
      "[0, 0, 1]\n",
      "[0, 2, 1]\n",
      "[0, 2, 3]\n",
      "Concurrency\n"
     ]
    }
   ],
   "source": [
    "error = 0\n",
    "for i in range(len(m)):\n",
    "#     print(m)\n",
    "    indexOfNextMessage = 0\n",
    "    for j in range(1, len(m)):\n",
    "        if whoCameFirst(m[indexOfNextMessage], m[j]) < 1: #Parallel or Same message\n",
    "            error = 1;\n",
    "        if whoCameFirst(m[indexOfNextMessage], m[j]) == 2:\n",
    "            indexOfNextMessage = j\n",
    "#     m.pop(indexOfNextMessage)\n",
    "    if(error == 1):\n",
    "        print(\"Concurrency\")\n",
    "        break\n",
    "    print(m.pop(indexOfNextMessage))\n",
    "    "
   ]
  },
  {
   "cell_type": "code",
   "execution_count": 5,
   "metadata": {},
   "outputs": [],
   "source": [
    "# whoCameLast(m[0], m[2])"
   ]
  },
  {
   "cell_type": "code",
   "execution_count": null,
   "metadata": {
    "collapsed": true
   },
   "outputs": [],
   "source": []
  }
 ],
 "metadata": {
  "kernelspec": {
   "display_name": "Python 3",
   "language": "python",
   "name": "python3"
  },
  "language_info": {
   "codemirror_mode": {
    "name": "ipython",
    "version": 3
   },
   "file_extension": ".py",
   "mimetype": "text/x-python",
   "name": "python",
   "nbconvert_exporter": "python",
   "pygments_lexer": "ipython3",
   "version": "3.6.7"
  }
 },
 "nbformat": 4,
 "nbformat_minor": 1
}
